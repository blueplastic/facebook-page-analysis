{
 "cells": [
  {
   "cell_type": "markdown",
   "metadata": {},
   "source": [
    "### Analyzing a Facebook Page's Posts\n",
    "\n",
    "The goal of this notebook is to analyze the last 300 posts for a specified Facebook page.\n",
    "\n",
    "Using the [Facepy library](https://github.com/jgorset/facepy \"github repo\") to access Facebook's [Graph API](https://developers.facebook.com/docs/graph-api \"API reference guide\"), the data from the following fields is collected into a standard Python list:\n",
    "\n",
    "- Object ID (serves as a unique identifier for each post)\n",
    "- Name\n",
    "- Message\n",
    "- Likes (count)\n",
    "- Total Reactions (count)\n",
    "\n",
    "The list is then pickled into a file for persistance and offline analysis. \n",
    "\n",
    "To begin the analysis, the data is loaded from the file into a [Pandas](http://pandas.pydata.org/) DataFrame. \n",
    "\n",
    "There are 2 parts to the analysis:\n",
    "\n",
    "- Create a [Seaborn](http://seaborn.pydata.org/) stacked bar chart visualization to see how many likes vs total reations each of the 300 posts received on Facebook. Do any posts stand out as far more popular than their peers?\n",
    "\n",
    "- Use the [TextBlob](https://textblob.readthedocs.io/en/latest/) library to run sentiment analysis on the posts and classify them as positive or negative "
   ]
  },
  {
   "cell_type": "markdown",
   "metadata": {},
   "source": [
    "This notebook is designed with Python 2.7. Verify the version below:"
   ]
  },
  {
   "cell_type": "code",
   "execution_count": 1,
   "metadata": {
    "collapsed": false
   },
   "outputs": [
    {
     "name": "stdout",
     "output_type": "stream",
     "text": [
      "2.7.12 |Anaconda 4.2.0 (64-bit)| (default, Jun 29 2016, 11:07:13) [MSC v.1500 64 bit (AMD64)]\n"
     ]
    }
   ],
   "source": [
    "import sys\n",
    "print (sys.version)"
   ]
  },
  {
   "cell_type": "markdown",
   "metadata": {},
   "source": [
    "You may also want to verify the following packages are installed in your environment:\n",
    "- Jupyter Notebook 4.2.3\n",
    "- Facepy 1.0.8\n",
    "- Spacy 1.2.0\n",
    "- Seaborn 0.7.1\n",
    "- Pandas 0.19.1"
   ]
  },
  {
   "cell_type": "code",
   "execution_count": 2,
   "metadata": {
    "collapsed": false
   },
   "outputs": [],
   "source": [
    "import cPickle\n",
    "import requests\n",
    "import pandas as pd\n",
    "import seaborn as sns\n",
    "from facepy import GraphAPI\n",
    "import matplotlib as mpl\n",
    "\n",
    "from matplotlib import pyplot as plt\n",
    "from textblob import TextBlob"
   ]
  },
  {
   "cell_type": "code",
   "execution_count": 3,
   "metadata": {
    "collapsed": true
   },
   "outputs": [],
   "source": [
    "%matplotlib inline"
   ]
  },
  {
   "cell_type": "markdown",
   "metadata": {},
   "source": [
    "### Facebook API Config"
   ]
  },
  {
   "cell_type": "markdown",
   "metadata": {},
   "source": [
    "Enter your Facebook access token below. \n",
    "\n",
    "You can get a fresh access token from top of this page:\n",
    "https://developers.facebook.com/tools/explorer"
   ]
  },
  {
   "cell_type": "code",
   "execution_count": 4,
   "metadata": {
    "collapsed": true
   },
   "outputs": [],
   "source": [
    "access_token = \"\""
   ]
  },
  {
   "cell_type": "markdown",
   "metadata": {},
   "source": [
    "Enter the page you want to analyze, for example to analyze the news media page for AJ+ on Facebook:"
   ]
  },
  {
   "cell_type": "code",
   "execution_count": 5,
   "metadata": {
    "collapsed": true
   },
   "outputs": [],
   "source": [
    "page_to_analyze = \"ajplusenglish\""
   ]
  },
  {
   "cell_type": "markdown",
   "metadata": {
    "collapsed": true
   },
   "source": [
    "Initialize a Facepy graph object with the access_token:"
   ]
  },
  {
   "cell_type": "code",
   "execution_count": 6,
   "metadata": {
    "collapsed": true
   },
   "outputs": [],
   "source": [
    "graph = GraphAPI(access_token)"
   ]
  },
  {
   "cell_type": "markdown",
   "metadata": {},
   "source": [
    "FacePy Documentation: https://facepy.readthedocs.io/en/latest/usage/graph-api.html"
   ]
  },
  {
   "cell_type": "markdown",
   "metadata": {},
   "source": [
    "### Get last 300 posts on page to analyze"
   ]
  },
  {
   "cell_type": "markdown",
   "metadata": {},
   "source": [
    "Note that the \"{page-id}/posts\" endpoint used below shows only the posts that were published by this page (including links and status updates).\n",
    "\n",
    "Full API reference for /posts:\n",
    "https://developers.facebook.com/docs/graph-api/reference/v2.8/page/feed"
   ]
  },
  {
   "cell_type": "code",
   "execution_count": 7,
   "metadata": {
    "collapsed": false
   },
   "outputs": [],
   "source": [
    "# This will return a generator type w/ 100 posts in each page\n",
    "posts = graph.get(page_to_analyze + '/posts', page=True, limit=25)  #could change to /feed"
   ]
  },
  {
   "cell_type": "code",
   "execution_count": 8,
   "metadata": {
    "collapsed": false
   },
   "outputs": [
    {
     "data": {
      "text/plain": [
       "generator"
      ]
     },
     "execution_count": 8,
     "metadata": {},
     "output_type": "execute_result"
    }
   ],
   "source": [
    "type(posts)"
   ]
  },
  {
   "cell_type": "code",
   "execution_count": 9,
   "metadata": {
    "collapsed": false
   },
   "outputs": [],
   "source": [
    "# Create a list to hold the last 300 posts\n",
    "posts_300 = []\n",
    "\n",
    "# Run loop 12 times, getting 25 posts each time, 300 total\n",
    "for i in range(12):\n",
    "    posts_temp_25 = posts.next()\n",
    "    posts_300 = posts_300 + posts_temp_25[u'data']"
   ]
  },
  {
   "cell_type": "markdown",
   "metadata": {},
   "source": [
    "Verify that 300 posts were collected:"
   ]
  },
  {
   "cell_type": "code",
   "execution_count": 10,
   "metadata": {
    "collapsed": false,
    "scrolled": true
   },
   "outputs": [
    {
     "data": {
      "text/plain": [
       "300"
      ]
     },
     "execution_count": 10,
     "metadata": {},
     "output_type": "execute_result"
    }
   ],
   "source": [
    "len(posts_300)"
   ]
  },
  {
   "cell_type": "markdown",
   "metadata": {},
   "source": [
    "Which fields were collected for the first post # 0?"
   ]
  },
  {
   "cell_type": "code",
   "execution_count": 11,
   "metadata": {
    "collapsed": false
   },
   "outputs": [
    {
     "data": {
      "text/plain": [
       "[u'picture',\n",
       " u'is_hidden',\n",
       " u'likes',\n",
       " u'from',\n",
       " u'name',\n",
       " u'privacy',\n",
       " u'is_expired',\n",
       " u'comments',\n",
       " u'actions',\n",
       " u'properties',\n",
       " u'source',\n",
       " u'link',\n",
       " u'object_id',\n",
       " u'shares',\n",
       " u'created_time',\n",
       " u'message',\n",
       " u'updated_time',\n",
       " u'type',\n",
       " u'id',\n",
       " u'status_type',\n",
       " u'icon']"
      ]
     },
     "execution_count": 11,
     "metadata": {},
     "output_type": "execute_result"
    }
   ],
   "source": [
    "posts_300[0].keys()"
   ]
  },
  {
   "cell_type": "code",
   "execution_count": 12,
   "metadata": {
    "collapsed": false
   },
   "outputs": [
    {
     "data": {
      "text/plain": [
       "u'After 6 years, the UN finally says sorry for spreading cholera in Haiti...but not for causing the outbreak.'"
      ]
     },
     "execution_count": 12,
     "metadata": {},
     "output_type": "execute_result"
    }
   ],
   "source": [
    "#What is the message field?\n",
    "posts_300[0][u'message']"
   ]
  },
  {
   "cell_type": "markdown",
   "metadata": {},
   "source": [
    "Save the list to a 5 - 6 MB file on disk for offline analysis:"
   ]
  },
  {
   "cell_type": "code",
   "execution_count": 13,
   "metadata": {
    "collapsed": true
   },
   "outputs": [],
   "source": [
    "cPickle.dump(posts_300, open('posts_300.p', 'wb')) "
   ]
  },
  {
   "cell_type": "code",
   "execution_count": 14,
   "metadata": {
    "collapsed": false
   },
   "outputs": [],
   "source": [
    "# Read the saved file back\n",
    "posts_300_disk = cPickle.load(open('posts_300.p', 'rb'))"
   ]
  },
  {
   "cell_type": "markdown",
   "metadata": {
    "collapsed": true
   },
   "source": [
    "### Make a Pandas Dataframe"
   ]
  },
  {
   "cell_type": "markdown",
   "metadata": {},
   "source": [
    "Before creating a DataFrame with 5 columns from the list, inspect the relevant 5 fields by printing them out.\n",
    "\n",
    "Here we print the 5 fields in the list for the 7th post:"
   ]
  },
  {
   "cell_type": "code",
   "execution_count": 15,
   "metadata": {
    "collapsed": false
   },
   "outputs": [
    {
     "data": {
      "text/plain": [
       "u'407570359384477_848862495255259'"
      ]
     },
     "execution_count": 15,
     "metadata": {},
     "output_type": "execute_result"
    }
   ],
   "source": [
    "# DF Col-1\n",
    "posts_300_disk[7][u'id']"
   ]
  },
  {
   "cell_type": "code",
   "execution_count": 16,
   "metadata": {
    "collapsed": false
   },
   "outputs": [
    {
     "name": "stdout",
     "output_type": "stream",
     "text": [
      "An Unusual Gold Heist\n"
     ]
    }
   ],
   "source": [
    "# DF Col-2\n",
    "\n",
    "# If the post does not have a name field, place a KeyError in the cell\n",
    "try:\n",
    "    print posts_300_disk[9][u'name']\n",
    "except KeyError, e:\n",
    "    print 'KeyError-reason: \"%s\"' % str(e)"
   ]
  },
  {
   "cell_type": "code",
   "execution_count": 17,
   "metadata": {
    "collapsed": false
   },
   "outputs": [
    {
     "data": {
      "text/plain": [
       "u'This man literally struck gold when he stole a bucket full of gold flakes in broad daylight. Now the NYPD is after him and the $1.6M worth of gold.'"
      ]
     },
     "execution_count": 17,
     "metadata": {},
     "output_type": "execute_result"
    }
   ],
   "source": [
    "# DF Col-3\n",
    "posts_300_disk[9][u'message']"
   ]
  },
  {
   "cell_type": "markdown",
   "metadata": {},
   "source": [
    "### Get likes count"
   ]
  },
  {
   "cell_type": "code",
   "execution_count": 18,
   "metadata": {
    "collapsed": false
   },
   "outputs": [
    {
     "data": {
      "text/plain": [
       "8599"
      ]
     },
     "execution_count": 18,
     "metadata": {},
     "output_type": "execute_result"
    }
   ],
   "source": [
    "#DF Col-4\n",
    "r = requests.get(\"https://graph.facebook.com/v2.8/\" + str(posts_300_disk[9][u'id']) + \"/likes?summary=true&access_token=\" + access_token)\n",
    "r.json()[u'summary'][u'total_count']"
   ]
  },
  {
   "cell_type": "markdown",
   "metadata": {},
   "source": [
    "### Get Reactions count"
   ]
  },
  {
   "cell_type": "code",
   "execution_count": 19,
   "metadata": {
    "collapsed": false
   },
   "outputs": [
    {
     "data": {
      "text/plain": [
       "14150"
      ]
     },
     "execution_count": 19,
     "metadata": {},
     "output_type": "execute_result"
    }
   ],
   "source": [
    "#DF Col-5\n",
    "r = requests.get(\"https://graph.facebook.com/v2.8/\" + str(posts_300_disk[9][u'id']) + \"/reactions?summary=true&access_token=\" + access_token)\n",
    "r.json()[u'summary'][u'total_count']"
   ]
  },
  {
   "cell_type": "markdown",
   "metadata": {},
   "source": [
    "### First make an empty DataFrame w/ 300 rows"
   ]
  },
  {
   "cell_type": "code",
   "execution_count": 20,
   "metadata": {
    "collapsed": true
   },
   "outputs": [],
   "source": [
    "col = ['id', 'name', 'message', 'likes_count', 'reactions_count']"
   ]
  },
  {
   "cell_type": "code",
   "execution_count": 21,
   "metadata": {
    "collapsed": false
   },
   "outputs": [],
   "source": [
    "df = pd.DataFrame(columns=col, index=range(0,300))"
   ]
  },
  {
   "cell_type": "code",
   "execution_count": 22,
   "metadata": {
    "collapsed": false
   },
   "outputs": [
    {
     "data": {
      "text/html": [
       "<div>\n",
       "<table border=\"1\" class=\"dataframe\">\n",
       "  <thead>\n",
       "    <tr style=\"text-align: right;\">\n",
       "      <th></th>\n",
       "      <th>id</th>\n",
       "      <th>name</th>\n",
       "      <th>message</th>\n",
       "      <th>likes_count</th>\n",
       "      <th>reactions_count</th>\n",
       "    </tr>\n",
       "  </thead>\n",
       "  <tbody>\n",
       "    <tr>\n",
       "      <th>0</th>\n",
       "      <td>NaN</td>\n",
       "      <td>NaN</td>\n",
       "      <td>NaN</td>\n",
       "      <td>NaN</td>\n",
       "      <td>NaN</td>\n",
       "    </tr>\n",
       "    <tr>\n",
       "      <th>1</th>\n",
       "      <td>NaN</td>\n",
       "      <td>NaN</td>\n",
       "      <td>NaN</td>\n",
       "      <td>NaN</td>\n",
       "      <td>NaN</td>\n",
       "    </tr>\n",
       "    <tr>\n",
       "      <th>2</th>\n",
       "      <td>NaN</td>\n",
       "      <td>NaN</td>\n",
       "      <td>NaN</td>\n",
       "      <td>NaN</td>\n",
       "      <td>NaN</td>\n",
       "    </tr>\n",
       "  </tbody>\n",
       "</table>\n",
       "</div>"
      ],
      "text/plain": [
       "    id name message likes_count reactions_count\n",
       "0  NaN  NaN     NaN         NaN             NaN\n",
       "1  NaN  NaN     NaN         NaN             NaN\n",
       "2  NaN  NaN     NaN         NaN             NaN"
      ]
     },
     "execution_count": 22,
     "metadata": {},
     "output_type": "execute_result"
    }
   ],
   "source": [
    "df.head(3)"
   ]
  },
  {
   "cell_type": "markdown",
   "metadata": {},
   "source": [
    "### Loop through the list once and extract out 5 cols from each post to insert to a DataFrame row"
   ]
  },
  {
   "cell_type": "code",
   "execution_count": 23,
   "metadata": {
    "collapsed": false
   },
   "outputs": [
    {
     "name": "stdout",
     "output_type": "stream",
     "text": [
      "This counter will increment from 0 - 300 to show you the progress: \n",
      "Status: 0\n",
      "Status: 25\n",
      "Status: 50\n",
      "Status: 75\n",
      "Status: 100\n",
      "Status: 125\n",
      "Status: 150\n",
      "Status: 175\n",
      "Status: 200\n",
      "Status: 225\n",
      "Status: 250\n",
      "Status: 275\n",
      "Loop successfully completed!\n"
     ]
    }
   ],
   "source": [
    "# This loop prints a counter in increments of 25 as it gathers the likes_count and reactions_count information for all 300 posts by making HTTP request calls\n",
    "\n",
    "print(\"This counter will increment from 0 - 300 to show you the progress: \")\n",
    "\n",
    "counter = 0\n",
    "for post in posts_300_disk:\n",
    "    \n",
    "    # Get ID\n",
    "    current_id = post[u'id']\n",
    "    \n",
    "    # Get Name\n",
    "    try:\n",
    "        current_name = post[u'name']\n",
    "    except KeyError, e:\n",
    "        current_name = 'KeyError-reason: \"%s\"' % str(e)\n",
    "    \n",
    "    # Get Message\n",
    "    try:\n",
    "        current_message =  post[u'message']\n",
    "    except KeyError, e:\n",
    "        current_message = 'KeyError-reason: \"%s\"' % str(e)\n",
    "    \n",
    "    # Get Likes\n",
    "    r = requests.get(\"https://graph.facebook.com/v2.8/\" + str(post[u'id']) + \"/likes?summary=true&access_token=\" + access_token)\n",
    "    current_likes = r.json()[u'summary'][u'total_count']\n",
    "    \n",
    "    # Get Reactions\n",
    "    r = requests.get(\"https://graph.facebook.com/v2.8/\" + str(post[u'id']) + \"/reactions?summary=true&access_token=\" + access_token)\n",
    "    current_reactions = r.json()[u'summary'][u'total_count']\n",
    "    \n",
    "    # For debugging purposes\n",
    "    #print(str(counter) + \":\" + str(current_id) + \":\" + str(current_name) + \":\" + str(current_message) + \":\" + str(current_likes) + \":\" + str(current_reactions))\n",
    "    \n",
    "    # Populate each DataFrame row with the current data in the loop interation\n",
    "    df.iloc[counter] = pd.Series({col[0]: current_id,\n",
    "                            col[1]: current_name,\n",
    "                            col[2]: current_message,\n",
    "                            col[3]: current_likes,\n",
    "                            col[4]: current_reactions})\n",
    "    \n",
    "    # Print & Increment counter\n",
    "    if counter % 25 == 0:\n",
    "        print(\"Status: \" + str(counter))\n",
    "    \n",
    "    counter = counter + 1\n",
    "    \n",
    "print(\"Loop successfully completed!\")"
   ]
  },
  {
   "cell_type": "markdown",
   "metadata": {},
   "source": [
    "Display the first 3 rows of the fully populated DataFrame:"
   ]
  },
  {
   "cell_type": "code",
   "execution_count": 24,
   "metadata": {
    "collapsed": false,
    "scrolled": true
   },
   "outputs": [
    {
     "data": {
      "text/html": [
       "<div>\n",
       "<table border=\"1\" class=\"dataframe\">\n",
       "  <thead>\n",
       "    <tr style=\"text-align: right;\">\n",
       "      <th></th>\n",
       "      <th>id</th>\n",
       "      <th>name</th>\n",
       "      <th>message</th>\n",
       "      <th>likes_count</th>\n",
       "      <th>reactions_count</th>\n",
       "    </tr>\n",
       "  </thead>\n",
       "  <tbody>\n",
       "    <tr>\n",
       "      <th>0</th>\n",
       "      <td>407570359384477_849380761870099</td>\n",
       "      <td>Cameroon's Hair Salons Are Helping Fight Again...</td>\n",
       "      <td>Hair salons in Cameroon are saving lives as ou...</td>\n",
       "      <td>926</td>\n",
       "      <td>1059</td>\n",
       "    </tr>\n",
       "    <tr>\n",
       "      <th>1</th>\n",
       "      <td>407570359384477_849292098545632</td>\n",
       "      <td>#NoDAPL Launches #BankExit Divestment Campaign</td>\n",
       "      <td>Will #BankExit pull the plug on the $10.5 bill...</td>\n",
       "      <td>1542</td>\n",
       "      <td>1797</td>\n",
       "    </tr>\n",
       "    <tr>\n",
       "      <th>2</th>\n",
       "      <td>407570359384477_849233215218187</td>\n",
       "      <td>Trump “Thank You” Tour</td>\n",
       "      <td>We're live in Cincinnati, Ohio where President...</td>\n",
       "      <td>1060</td>\n",
       "      <td>5363</td>\n",
       "    </tr>\n",
       "  </tbody>\n",
       "</table>\n",
       "</div>"
      ],
      "text/plain": [
       "                                id  \\\n",
       "0  407570359384477_849380761870099   \n",
       "1  407570359384477_849292098545632   \n",
       "2  407570359384477_849233215218187   \n",
       "\n",
       "                                                name  \\\n",
       "0  Cameroon's Hair Salons Are Helping Fight Again...   \n",
       "1     #NoDAPL Launches #BankExit Divestment Campaign   \n",
       "2                             Trump “Thank You” Tour   \n",
       "\n",
       "                                             message likes_count  \\\n",
       "0  Hair salons in Cameroon are saving lives as ou...         926   \n",
       "1  Will #BankExit pull the plug on the $10.5 bill...        1542   \n",
       "2  We're live in Cincinnati, Ohio where President...        1060   \n",
       "\n",
       "  reactions_count  \n",
       "0            1059  \n",
       "1            1797  \n",
       "2            5363  "
      ]
     },
     "execution_count": 24,
     "metadata": {},
     "output_type": "execute_result"
    }
   ],
   "source": [
    "df.head(3)"
   ]
  },
  {
   "cell_type": "code",
   "execution_count": 25,
   "metadata": {
    "collapsed": false
   },
   "outputs": [
    {
     "data": {
      "text/plain": [
       "9603.9633333333331"
      ]
     },
     "execution_count": 25,
     "metadata": {},
     "output_type": "execute_result"
    }
   ],
   "source": [
    "# What is the average # of likes for each post?\n",
    "df[\"likes_count\"].mean()"
   ]
  },
  {
   "cell_type": "code",
   "execution_count": 26,
   "metadata": {
    "collapsed": false
   },
   "outputs": [
    {
     "data": {
      "text/plain": [
       "15200.040000000001"
      ]
     },
     "execution_count": 26,
     "metadata": {},
     "output_type": "execute_result"
    }
   ],
   "source": [
    "# What is the average # of reactions for each post?\n",
    "df[\"reactions_count\"].mean()"
   ]
  },
  {
   "cell_type": "markdown",
   "metadata": {},
   "source": [
    "### Create a stacked bar chart visualization showing the likes + reactions for each post"
   ]
  },
  {
   "cell_type": "code",
   "execution_count": 27,
   "metadata": {
    "collapsed": false,
    "scrolled": true
   },
   "outputs": [
    {
     "data": {
      "image/png": "[encoded data removed]",
      "text/plain": [
       "<matplotlib.figure.Figure at 0x106e6f28>"
      ]
     },
     "metadata": {},
     "output_type": "display_data"
    }
   ],
   "source": [
    "# Code referenced from: http://randyzwitch.com/creating-stacked-bar-chart-seaborn/\n",
    "\n",
    "# Read in data & create total column\n",
    "stacked_bar_data = df\n",
    "stacked_bar_data[\"total\"] = stacked_bar_data['reactions_count']\n",
    "\n",
    "#Set general plot properties\n",
    "sns.set_style(\"white\")\n",
    "sns.set_context({\"figure.figsize\": (24, 10)})\n",
    "\n",
    "#Plot 1 - background - \"total\" (top) series\n",
    "sns.barplot(x = stacked_bar_data['id'], y = stacked_bar_data['total'], color = \"red\")\n",
    "\n",
    "#Plot 2 - overlay - \"bottom\" series\n",
    "bottom_plot = sns.barplot(x = stacked_bar_data['id'], y = stacked_bar_data['likes_count'], color = \"blue\")\n",
    "\n",
    "\n",
    "topbar = plt.Rectangle((0,0),1,1,fc=\"red\", edgecolor = 'none')\n",
    "bottombar = plt.Rectangle((0,0),1,1,fc='blue',  edgecolor = 'none')\n",
    "l = plt.legend([bottombar, topbar], ['Likes Count', 'Reactions Count'], loc=1, ncol = 2, prop={'size':16})\n",
    "l.draw_frame(False)\n",
    "\n",
    "#Optional code - Make plot look nicer\n",
    "sns.despine(left=True)\n",
    "bottom_plot.set_ylabel(\"Y-axis label\")\n",
    "bottom_plot.set_xlabel(\"X-axis label\")\n",
    "\n",
    "#Set fonts to consistent 16pt size\n",
    "for item in ([bottom_plot.xaxis.label, bottom_plot.yaxis.label] +\n",
    "           bottom_plot.get_xticklabels() + bottom_plot.get_yticklabels()):\n",
    "  item.set_fontsize(16)"
   ]
  },
  {
   "cell_type": "markdown",
   "metadata": {},
   "source": [
    "There appears to be one post that got significantly more reactions than any other (in the middle of the x-axis). \n",
    "\n",
    "Which post was it?"
   ]
  },
  {
   "cell_type": "code",
   "execution_count": 28,
   "metadata": {
    "collapsed": false
   },
   "outputs": [
    {
     "data": {
      "text/html": [
       "<div>\n",
       "<table border=\"1\" class=\"dataframe\">\n",
       "  <thead>\n",
       "    <tr style=\"text-align: right;\">\n",
       "      <th></th>\n",
       "      <th>id</th>\n",
       "      <th>name</th>\n",
       "      <th>message</th>\n",
       "      <th>likes_count</th>\n",
       "      <th>reactions_count</th>\n",
       "      <th>total</th>\n",
       "    </tr>\n",
       "  </thead>\n",
       "  <tbody>\n",
       "    <tr>\n",
       "      <th>151</th>\n",
       "      <td>407570359384477_840945559380286</td>\n",
       "      <td>Child Panics after Chlorine Gas Attack</td>\n",
       "      <td>“Will I die, miss? Will I die?” This child in ...</td>\n",
       "      <td>122802</td>\n",
       "      <td>412534</td>\n",
       "      <td>412534</td>\n",
       "    </tr>\n",
       "  </tbody>\n",
       "</table>\n",
       "</div>"
      ],
      "text/plain": [
       "                                  id                                    name  \\\n",
       "151  407570359384477_840945559380286  Child Panics after Chlorine Gas Attack   \n",
       "\n",
       "                                               message likes_count  \\\n",
       "151  “Will I die, miss? Will I die?” This child in ...      122802   \n",
       "\n",
       "    reactions_count   total  \n",
       "151          412534  412534  "
      ]
     },
     "execution_count": 28,
     "metadata": {},
     "output_type": "execute_result"
    }
   ],
   "source": [
    "df[df['reactions_count'] >= 400000]"
   ]
  },
  {
   "cell_type": "markdown",
   "metadata": {},
   "source": [
    "In the bar chart, there appears to be another tier of posts that got over 100k reations.\n",
    "\n",
    "Which posts were they?"
   ]
  },
  {
   "cell_type": "code",
   "execution_count": 30,
   "metadata": {
    "collapsed": false
   },
   "outputs": [
    {
     "data": {
      "text/html": [
       "<div>\n",
       "<table border=\"1\" class=\"dataframe\">\n",
       "  <thead>\n",
       "    <tr style=\"text-align: right;\">\n",
       "      <th></th>\n",
       "      <th>id</th>\n",
       "      <th>name</th>\n",
       "      <th>message</th>\n",
       "      <th>likes_count</th>\n",
       "      <th>reactions_count</th>\n",
       "      <th>total</th>\n",
       "    </tr>\n",
       "  </thead>\n",
       "  <tbody>\n",
       "    <tr>\n",
       "      <th>151</th>\n",
       "      <td>407570359384477_840945559380286</td>\n",
       "      <td>Child Panics after Chlorine Gas Attack</td>\n",
       "      <td>“Will I die, miss? Will I die?” This child in ...</td>\n",
       "      <td>122802</td>\n",
       "      <td>412534</td>\n",
       "      <td>412534</td>\n",
       "    </tr>\n",
       "    <tr>\n",
       "      <th>135</th>\n",
       "      <td>407570359384477_841734352634740</td>\n",
       "      <td>Joe Biden Is VP Goals</td>\n",
       "      <td>Obama may be America's cool dad but let's be h...</td>\n",
       "      <td>92020</td>\n",
       "      <td>120450</td>\n",
       "      <td>120450</td>\n",
       "    </tr>\n",
       "    <tr>\n",
       "      <th>61</th>\n",
       "      <td>407570359384477_842229522585223</td>\n",
       "      <td>KeyError-reason: \"u'name'\"</td>\n",
       "      <td>Ever wanted to sleep with the fish? This under...</td>\n",
       "      <td>100396</td>\n",
       "      <td>120447</td>\n",
       "      <td>120447</td>\n",
       "    </tr>\n",
       "    <tr>\n",
       "      <th>101</th>\n",
       "      <td>407570359384477_843241355817373</td>\n",
       "      <td>Amazon's Ad</td>\n",
       "      <td>The Muslim imam and Christian priest from Amaz...</td>\n",
       "      <td>94791</td>\n",
       "      <td>119019</td>\n",
       "      <td>119019</td>\n",
       "    </tr>\n",
       "    <tr>\n",
       "      <th>157</th>\n",
       "      <td>407570359384477_839933059481536</td>\n",
       "      <td>Don't Forget Aleppo.</td>\n",
       "      <td>Crying nurses, mourning fathers: Aleppo's been...</td>\n",
       "      <td>38223</td>\n",
       "      <td>112934</td>\n",
       "      <td>112934</td>\n",
       "    </tr>\n",
       "  </tbody>\n",
       "</table>\n",
       "</div>"
      ],
      "text/plain": [
       "                                  id                                    name  \\\n",
       "151  407570359384477_840945559380286  Child Panics after Chlorine Gas Attack   \n",
       "135  407570359384477_841734352634740                   Joe Biden Is VP Goals   \n",
       "61   407570359384477_842229522585223              KeyError-reason: \"u'name'\"   \n",
       "101  407570359384477_843241355817373                             Amazon's Ad   \n",
       "157  407570359384477_839933059481536                    Don't Forget Aleppo.   \n",
       "\n",
       "                                               message likes_count  \\\n",
       "151  “Will I die, miss? Will I die?” This child in ...      122802   \n",
       "135  Obama may be America's cool dad but let's be h...       92020   \n",
       "61   Ever wanted to sleep with the fish? This under...      100396   \n",
       "101  The Muslim imam and Christian priest from Amaz...       94791   \n",
       "157  Crying nurses, mourning fathers: Aleppo's been...       38223   \n",
       "\n",
       "    reactions_count   total  \n",
       "151          412534  412534  \n",
       "135          120450  120450  \n",
       "61           120447  120447  \n",
       "101          119019  119019  \n",
       "157          112934  112934  "
      ]
     },
     "execution_count": 30,
     "metadata": {},
     "output_type": "execute_result"
    }
   ],
   "source": [
    "df[df['reactions_count'] >= 100000].sort_values(by=['reactions_count'], ascending=[False])"
   ]
  },
  {
   "cell_type": "markdown",
   "metadata": {
    "collapsed": false
   },
   "source": [
    "KeyErrors may appear in the name field. How many unique names are there?"
   ]
  },
  {
   "cell_type": "code",
   "execution_count": 31,
   "metadata": {
    "collapsed": false
   },
   "outputs": [
    {
     "data": {
      "text/plain": [
       "263"
      ]
     },
     "execution_count": 31,
     "metadata": {},
     "output_type": "execute_result"
    }
   ],
   "source": [
    "len(df['name'].unique())"
   ]
  },
  {
   "cell_type": "markdown",
   "metadata": {},
   "source": [
    "How many posts don't have a name field?"
   ]
  },
  {
   "cell_type": "code",
   "execution_count": 32,
   "metadata": {
    "collapsed": false
   },
   "outputs": [],
   "source": [
    "df_filtered = df[df['name'] == '''KeyError-reason: \"u'name'\"''']"
   ]
  },
  {
   "cell_type": "code",
   "execution_count": 33,
   "metadata": {
    "collapsed": false
   },
   "outputs": [
    {
     "data": {
      "text/plain": [
       "9"
      ]
     },
     "execution_count": 33,
     "metadata": {},
     "output_type": "execute_result"
    }
   ],
   "source": [
    "len(df_filtered.index)"
   ]
  },
  {
   "cell_type": "code",
   "execution_count": 34,
   "metadata": {
    "collapsed": false
   },
   "outputs": [
    {
     "data": {
      "text/html": [
       "<div>\n",
       "<table border=\"1\" class=\"dataframe\">\n",
       "  <thead>\n",
       "    <tr style=\"text-align: right;\">\n",
       "      <th></th>\n",
       "      <th>id</th>\n",
       "      <th>name</th>\n",
       "      <th>message</th>\n",
       "      <th>likes_count</th>\n",
       "      <th>reactions_count</th>\n",
       "      <th>total</th>\n",
       "    </tr>\n",
       "  </thead>\n",
       "  <tbody>\n",
       "    <tr>\n",
       "      <th>61</th>\n",
       "      <td>407570359384477_842229522585223</td>\n",
       "      <td>KeyError-reason: \"u'name'\"</td>\n",
       "      <td>Ever wanted to sleep with the fish? This under...</td>\n",
       "      <td>100396</td>\n",
       "      <td>120447</td>\n",
       "      <td>120447</td>\n",
       "    </tr>\n",
       "    <tr>\n",
       "      <th>129</th>\n",
       "      <td>407570359384477_842225375918971</td>\n",
       "      <td>KeyError-reason: \"u'name'\"</td>\n",
       "      <td>Donald Trump outlined what he'll do on day one...</td>\n",
       "      <td>890</td>\n",
       "      <td>1262</td>\n",
       "      <td>1262</td>\n",
       "    </tr>\n",
       "    <tr>\n",
       "      <th>156</th>\n",
       "      <td>407570359384477_838676092940566</td>\n",
       "      <td>KeyError-reason: \"u'name'\"</td>\n",
       "      <td>At about 1,100 pounds, Juan Pedro might be the...</td>\n",
       "      <td>3642</td>\n",
       "      <td>4595</td>\n",
       "      <td>4595</td>\n",
       "    </tr>\n",
       "    <tr>\n",
       "      <th>203</th>\n",
       "      <td>407570359384477_838247216316787</td>\n",
       "      <td>KeyError-reason: \"u'name'\"</td>\n",
       "      <td>The Dead Sea is shrinking. So these activists ...</td>\n",
       "      <td>16686</td>\n",
       "      <td>19304</td>\n",
       "      <td>19304</td>\n",
       "    </tr>\n",
       "    <tr>\n",
       "      <th>222</th>\n",
       "      <td>407570359384477_837682236373285</td>\n",
       "      <td>KeyError-reason: \"u'name'\"</td>\n",
       "      <td>Meet the boxer knocking some sense into young ...</td>\n",
       "      <td>1857</td>\n",
       "      <td>2100</td>\n",
       "      <td>2100</td>\n",
       "    </tr>\n",
       "    <tr>\n",
       "      <th>261</th>\n",
       "      <td>407570359384477_836333119841530</td>\n",
       "      <td>KeyError-reason: \"u'name'\"</td>\n",
       "      <td>Los Angeles Police arrest anti-Trump protesters</td>\n",
       "      <td>2563</td>\n",
       "      <td>3972</td>\n",
       "      <td>3972</td>\n",
       "    </tr>\n",
       "    <tr>\n",
       "      <th>265</th>\n",
       "      <td>407570359384477_836153803192795</td>\n",
       "      <td>KeyError-reason: \"u'name'\"</td>\n",
       "      <td>Anti-Trump Protesters in Union Square</td>\n",
       "      <td>8257</td>\n",
       "      <td>11837</td>\n",
       "      <td>11837</td>\n",
       "    </tr>\n",
       "    <tr>\n",
       "      <th>269</th>\n",
       "      <td>407570359384477_836016609873181</td>\n",
       "      <td>KeyError-reason: \"u'name'\"</td>\n",
       "      <td>Thousands Protest in NYC below Trump Tower</td>\n",
       "      <td>5595</td>\n",
       "      <td>7189</td>\n",
       "      <td>7189</td>\n",
       "    </tr>\n",
       "    <tr>\n",
       "      <th>279</th>\n",
       "      <td>407570359384477_835443899930452</td>\n",
       "      <td>KeyError-reason: \"u'name'\"</td>\n",
       "      <td>NYC protest at Trump Tower</td>\n",
       "      <td>13963</td>\n",
       "      <td>20687</td>\n",
       "      <td>20687</td>\n",
       "    </tr>\n",
       "  </tbody>\n",
       "</table>\n",
       "</div>"
      ],
      "text/plain": [
       "                                  id                        name  \\\n",
       "61   407570359384477_842229522585223  KeyError-reason: \"u'name'\"   \n",
       "129  407570359384477_842225375918971  KeyError-reason: \"u'name'\"   \n",
       "156  407570359384477_838676092940566  KeyError-reason: \"u'name'\"   \n",
       "203  407570359384477_838247216316787  KeyError-reason: \"u'name'\"   \n",
       "222  407570359384477_837682236373285  KeyError-reason: \"u'name'\"   \n",
       "261  407570359384477_836333119841530  KeyError-reason: \"u'name'\"   \n",
       "265  407570359384477_836153803192795  KeyError-reason: \"u'name'\"   \n",
       "269  407570359384477_836016609873181  KeyError-reason: \"u'name'\"   \n",
       "279  407570359384477_835443899930452  KeyError-reason: \"u'name'\"   \n",
       "\n",
       "                                               message likes_count  \\\n",
       "61   Ever wanted to sleep with the fish? This under...      100396   \n",
       "129  Donald Trump outlined what he'll do on day one...         890   \n",
       "156  At about 1,100 pounds, Juan Pedro might be the...        3642   \n",
       "203  The Dead Sea is shrinking. So these activists ...       16686   \n",
       "222  Meet the boxer knocking some sense into young ...        1857   \n",
       "261    Los Angeles Police arrest anti-Trump protesters        2563   \n",
       "265              Anti-Trump Protesters in Union Square        8257   \n",
       "269         Thousands Protest in NYC below Trump Tower        5595   \n",
       "279                         NYC protest at Trump Tower       13963   \n",
       "\n",
       "    reactions_count   total  \n",
       "61           120447  120447  \n",
       "129            1262    1262  \n",
       "156            4595    4595  \n",
       "203           19304   19304  \n",
       "222            2100    2100  \n",
       "261            3972    3972  \n",
       "265           11837   11837  \n",
       "269            7189    7189  \n",
       "279           20687   20687  "
      ]
     },
     "execution_count": 34,
     "metadata": {},
     "output_type": "execute_result"
    }
   ],
   "source": [
    "# Display all posts with a missing name field\n",
    "\n",
    "df_filtered.head(10)"
   ]
  },
  {
   "cell_type": "markdown",
   "metadata": {},
   "source": [
    "### Classify the posts as positive or negative sentiment"
   ]
  },
  {
   "cell_type": "markdown",
   "metadata": {},
   "source": [
    "First test the TextBlob package's sentiment polarity method with a positive and negative phrase:"
   ]
  },
  {
   "cell_type": "code",
   "execution_count": 35,
   "metadata": {
    "collapsed": false
   },
   "outputs": [
    {
     "data": {
      "text/plain": [
       "0.64"
      ]
     },
     "execution_count": 35,
     "metadata": {},
     "output_type": "execute_result"
    }
   ],
   "source": [
    "happy = TextBlob(\"I am so happy joy cheerful good upbeat joyful glad up\")\n",
    "happy.sentiment.polarity"
   ]
  },
  {
   "cell_type": "code",
   "execution_count": 36,
   "metadata": {
    "collapsed": false
   },
   "outputs": [
    {
     "data": {
      "text/plain": [
       "-0.43333333333333335"
      ]
     },
     "execution_count": 36,
     "metadata": {},
     "output_type": "execute_result"
    }
   ],
   "source": [
    "sad = TextBlob(\"I am so angry sad furious depressed negative\")\n",
    "sad.sentiment.polarity"
   ]
  },
  {
   "cell_type": "markdown",
   "metadata": {},
   "source": [
    "So, positive posts have positive #s, between 0 - 1.\n",
    "\n",
    "Negative posts have negative #s, between -1 and 0."
   ]
  },
  {
   "cell_type": "code",
   "execution_count": 37,
   "metadata": {
    "collapsed": false
   },
   "outputs": [],
   "source": [
    "# Create a list to store the polarity data for the 300 post's messages\n",
    "polarity = []\n",
    "\n",
    "# For each row in the df, generate a new polarity column\n",
    "for msg in df['message']:\n",
    "    polarity.append(TextBlob(msg).sentiment.polarity)\n",
    "    \n",
    "df['polarity'] = polarity"
   ]
  },
  {
   "cell_type": "code",
   "execution_count": 38,
   "metadata": {
    "collapsed": false
   },
   "outputs": [
    {
     "data": {
      "text/html": [
       "<div>\n",
       "<table border=\"1\" class=\"dataframe\">\n",
       "  <thead>\n",
       "    <tr style=\"text-align: right;\">\n",
       "      <th></th>\n",
       "      <th>id</th>\n",
       "      <th>name</th>\n",
       "      <th>message</th>\n",
       "      <th>likes_count</th>\n",
       "      <th>reactions_count</th>\n",
       "      <th>total</th>\n",
       "      <th>polarity</th>\n",
       "    </tr>\n",
       "  </thead>\n",
       "  <tbody>\n",
       "    <tr>\n",
       "      <th>0</th>\n",
       "      <td>407570359384477_849380761870099</td>\n",
       "      <td>Cameroon's Hair Salons Are Helping Fight Again...</td>\n",
       "      <td>Hair salons in Cameroon are saving lives as ou...</td>\n",
       "      <td>926</td>\n",
       "      <td>1059</td>\n",
       "      <td>1059</td>\n",
       "      <td>0.000000</td>\n",
       "    </tr>\n",
       "    <tr>\n",
       "      <th>1</th>\n",
       "      <td>407570359384477_849292098545632</td>\n",
       "      <td>#NoDAPL Launches #BankExit Divestment Campaign</td>\n",
       "      <td>Will #BankExit pull the plug on the $10.5 bill...</td>\n",
       "      <td>1542</td>\n",
       "      <td>1797</td>\n",
       "      <td>1797</td>\n",
       "      <td>0.000000</td>\n",
       "    </tr>\n",
       "    <tr>\n",
       "      <th>2</th>\n",
       "      <td>407570359384477_849233215218187</td>\n",
       "      <td>Trump “Thank You” Tour</td>\n",
       "      <td>We're live in Cincinnati, Ohio where President...</td>\n",
       "      <td>1060</td>\n",
       "      <td>5363</td>\n",
       "      <td>5363</td>\n",
       "      <td>0.068182</td>\n",
       "    </tr>\n",
       "    <tr>\n",
       "      <th>3</th>\n",
       "      <td>407570359384477_848366171971558</td>\n",
       "      <td>Subscribe to Newsbroke</td>\n",
       "      <td>Uggggggh the world ... Subscribe to Newsbroke ...</td>\n",
       "      <td>75</td>\n",
       "      <td>78</td>\n",
       "      <td>78</td>\n",
       "      <td>0.375000</td>\n",
       "    </tr>\n",
       "    <tr>\n",
       "      <th>4</th>\n",
       "      <td>407570359384477_849219301886245</td>\n",
       "      <td>You Have No Privacy</td>\n",
       "      <td>The UK just made it legal for the government t...</td>\n",
       "      <td>3072</td>\n",
       "      <td>4698</td>\n",
       "      <td>4698</td>\n",
       "      <td>0.064286</td>\n",
       "    </tr>\n",
       "    <tr>\n",
       "      <th>5</th>\n",
       "      <td>407570359384477_849186268556215</td>\n",
       "      <td>Trevor Noah and Tomi Lahren Face Off</td>\n",
       "      <td>Tomi Lahren compared Black Lives Matter to the...</td>\n",
       "      <td>8056</td>\n",
       "      <td>9640</td>\n",
       "      <td>9640</td>\n",
       "      <td>-0.166667</td>\n",
       "    </tr>\n",
       "    <tr>\n",
       "      <th>6</th>\n",
       "      <td>407570359384477_849128968561945</td>\n",
       "      <td>Cuba and U.S. React to Fidel's Life and Death</td>\n",
       "      <td>People in Havana and Miami have very different...</td>\n",
       "      <td>898</td>\n",
       "      <td>1078</td>\n",
       "      <td>1078</td>\n",
       "      <td>0.000000</td>\n",
       "    </tr>\n",
       "    <tr>\n",
       "      <th>7</th>\n",
       "      <td>407570359384477_848862495255259</td>\n",
       "      <td>Mosques Under Threat</td>\n",
       "      <td>Threatening letters are still showing up at mo...</td>\n",
       "      <td>650</td>\n",
       "      <td>1517</td>\n",
       "      <td>1517</td>\n",
       "      <td>0.000000</td>\n",
       "    </tr>\n",
       "    <tr>\n",
       "      <th>8</th>\n",
       "      <td>407570359384477_848905478584294</td>\n",
       "      <td>Child Malnutrition in Yemen</td>\n",
       "      <td>More than 1.5 million children are starving in...</td>\n",
       "      <td>4951</td>\n",
       "      <td>20011</td>\n",
       "      <td>20011</td>\n",
       "      <td>0.500000</td>\n",
       "    </tr>\n",
       "    <tr>\n",
       "      <th>9</th>\n",
       "      <td>407570359384477_848840348590807</td>\n",
       "      <td>An Unusual Gold Heist</td>\n",
       "      <td>This man literally struck gold when he stole a...</td>\n",
       "      <td>8601</td>\n",
       "      <td>14152</td>\n",
       "      <td>14152</td>\n",
       "      <td>0.237500</td>\n",
       "    </tr>\n",
       "  </tbody>\n",
       "</table>\n",
       "</div>"
      ],
      "text/plain": [
       "                                id  \\\n",
       "0  407570359384477_849380761870099   \n",
       "1  407570359384477_849292098545632   \n",
       "2  407570359384477_849233215218187   \n",
       "3  407570359384477_848366171971558   \n",
       "4  407570359384477_849219301886245   \n",
       "5  407570359384477_849186268556215   \n",
       "6  407570359384477_849128968561945   \n",
       "7  407570359384477_848862495255259   \n",
       "8  407570359384477_848905478584294   \n",
       "9  407570359384477_848840348590807   \n",
       "\n",
       "                                                name  \\\n",
       "0  Cameroon's Hair Salons Are Helping Fight Again...   \n",
       "1     #NoDAPL Launches #BankExit Divestment Campaign   \n",
       "2                             Trump “Thank You” Tour   \n",
       "3                             Subscribe to Newsbroke   \n",
       "4                                You Have No Privacy   \n",
       "5               Trevor Noah and Tomi Lahren Face Off   \n",
       "6      Cuba and U.S. React to Fidel's Life and Death   \n",
       "7                               Mosques Under Threat   \n",
       "8                        Child Malnutrition in Yemen   \n",
       "9                              An Unusual Gold Heist   \n",
       "\n",
       "                                             message likes_count  \\\n",
       "0  Hair salons in Cameroon are saving lives as ou...         926   \n",
       "1  Will #BankExit pull the plug on the $10.5 bill...        1542   \n",
       "2  We're live in Cincinnati, Ohio where President...        1060   \n",
       "3  Uggggggh the world ... Subscribe to Newsbroke ...          75   \n",
       "4  The UK just made it legal for the government t...        3072   \n",
       "5  Tomi Lahren compared Black Lives Matter to the...        8056   \n",
       "6  People in Havana and Miami have very different...         898   \n",
       "7  Threatening letters are still showing up at mo...         650   \n",
       "8  More than 1.5 million children are starving in...        4951   \n",
       "9  This man literally struck gold when he stole a...        8601   \n",
       "\n",
       "  reactions_count  total  polarity  \n",
       "0            1059   1059  0.000000  \n",
       "1            1797   1797  0.000000  \n",
       "2            5363   5363  0.068182  \n",
       "3              78     78  0.375000  \n",
       "4            4698   4698  0.064286  \n",
       "5            9640   9640 -0.166667  \n",
       "6            1078   1078  0.000000  \n",
       "7            1517   1517  0.000000  \n",
       "8           20011  20011  0.500000  \n",
       "9           14152  14152  0.237500  "
      ]
     },
     "execution_count": 38,
     "metadata": {},
     "output_type": "execute_result"
    }
   ],
   "source": [
    "df.head(10)"
   ]
  },
  {
   "cell_type": "code",
   "execution_count": 39,
   "metadata": {
    "collapsed": false
   },
   "outputs": [
    {
     "data": {
      "text/plain": [
       "105"
      ]
     },
     "execution_count": 39,
     "metadata": {},
     "output_type": "execute_result"
    }
   ],
   "source": [
    "# How many posts are positive?\n",
    "len(df[df['polarity'] > 0].index)"
   ]
  },
  {
   "cell_type": "code",
   "execution_count": 40,
   "metadata": {
    "collapsed": false
   },
   "outputs": [
    {
     "data": {
      "text/plain": [
       "72"
      ]
     },
     "execution_count": 40,
     "metadata": {},
     "output_type": "execute_result"
    }
   ],
   "source": [
    "# How many posts are negative?\n",
    "len(df[df['polarity'] < 0].index)"
   ]
  },
  {
   "cell_type": "code",
   "execution_count": 41,
   "metadata": {
    "collapsed": false
   },
   "outputs": [
    {
     "data": {
      "text/plain": [
       "123"
      ]
     },
     "execution_count": 41,
     "metadata": {},
     "output_type": "execute_result"
    }
   ],
   "source": [
    "# How many posts are unclassified?\n",
    "len(df[df['polarity'] == 0].index)"
   ]
  },
  {
   "cell_type": "code",
   "execution_count": 42,
   "metadata": {
    "collapsed": false
   },
   "outputs": [
    {
     "data": {
      "text/html": [
       "<div>\n",
       "<table border=\"1\" class=\"dataframe\">\n",
       "  <thead>\n",
       "    <tr style=\"text-align: right;\">\n",
       "      <th></th>\n",
       "      <th>id</th>\n",
       "      <th>name</th>\n",
       "      <th>message</th>\n",
       "      <th>likes_count</th>\n",
       "      <th>reactions_count</th>\n",
       "      <th>total</th>\n",
       "      <th>polarity</th>\n",
       "    </tr>\n",
       "  </thead>\n",
       "  <tbody>\n",
       "    <tr>\n",
       "      <th>15</th>\n",
       "      <td>407570359384477_848350815306427</td>\n",
       "      <td>Subscribe to Newsbroke</td>\n",
       "      <td>If Newsbroke gets to 10k subscribers, then we'...</td>\n",
       "      <td>421</td>\n",
       "      <td>462</td>\n",
       "      <td>462</td>\n",
       "      <td>0.871931</td>\n",
       "    </tr>\n",
       "    <tr>\n",
       "      <th>44</th>\n",
       "      <td>407570359384477_846626858812156</td>\n",
       "      <td>Amateurs Trying to Fly</td>\n",
       "      <td>If you think you can fly ... you can't. These ...</td>\n",
       "      <td>1025</td>\n",
       "      <td>1505</td>\n",
       "      <td>1505</td>\n",
       "      <td>0.800000</td>\n",
       "    </tr>\n",
       "    <tr>\n",
       "      <th>277</th>\n",
       "      <td>407570359384477_835438653264310</td>\n",
       "      <td>RIP Leonard Cohen</td>\n",
       "      <td>The legendary poet and singer who composed “Ha...</td>\n",
       "      <td>5032</td>\n",
       "      <td>7443</td>\n",
       "      <td>7443</td>\n",
       "      <td>1.000000</td>\n",
       "    </tr>\n",
       "  </tbody>\n",
       "</table>\n",
       "</div>"
      ],
      "text/plain": [
       "                                  id                    name  \\\n",
       "15   407570359384477_848350815306427  Subscribe to Newsbroke   \n",
       "44   407570359384477_846626858812156  Amateurs Trying to Fly   \n",
       "277  407570359384477_835438653264310       RIP Leonard Cohen   \n",
       "\n",
       "                                               message likes_count  \\\n",
       "15   If Newsbroke gets to 10k subscribers, then we'...         421   \n",
       "44   If you think you can fly ... you can't. These ...        1025   \n",
       "277  The legendary poet and singer who composed “Ha...        5032   \n",
       "\n",
       "    reactions_count total  polarity  \n",
       "15              462   462  0.871931  \n",
       "44             1505  1505  0.800000  \n",
       "277            7443  7443  1.000000  "
      ]
     },
     "execution_count": 42,
     "metadata": {},
     "output_type": "execute_result"
    }
   ],
   "source": [
    "# What are the most positive post messages?\n",
    "df[df['polarity'] > 0.7]"
   ]
  },
  {
   "cell_type": "code",
   "execution_count": 43,
   "metadata": {
    "collapsed": false
   },
   "outputs": [
    {
     "data": {
      "text/html": [
       "<div>\n",
       "<table border=\"1\" class=\"dataframe\">\n",
       "  <thead>\n",
       "    <tr style=\"text-align: right;\">\n",
       "      <th></th>\n",
       "      <th>id</th>\n",
       "      <th>name</th>\n",
       "      <th>message</th>\n",
       "      <th>likes_count</th>\n",
       "      <th>reactions_count</th>\n",
       "      <th>total</th>\n",
       "      <th>polarity</th>\n",
       "    </tr>\n",
       "  </thead>\n",
       "  <tbody>\n",
       "    <tr>\n",
       "      <th>10</th>\n",
       "      <td>407570359384477_848324461975729</td>\n",
       "      <td>Coral Reefs Are Dying</td>\n",
       "      <td>Bad news: This is the worst coral die-off ever...</td>\n",
       "      <td>1692</td>\n",
       "      <td>4404</td>\n",
       "      <td>4404</td>\n",
       "      <td>-0.85</td>\n",
       "    </tr>\n",
       "    <tr>\n",
       "      <th>183</th>\n",
       "      <td>407570359384477_839115999563242</td>\n",
       "      <td>Make America Hate Again</td>\n",
       "      <td>Has America learned to hate again? Hate crimes...</td>\n",
       "      <td>1465</td>\n",
       "      <td>2542</td>\n",
       "      <td>2542</td>\n",
       "      <td>-0.80</td>\n",
       "    </tr>\n",
       "    <tr>\n",
       "      <th>242</th>\n",
       "      <td>407570359384477_837119286429580</td>\n",
       "      <td>ISIS Blast at Pakistan Sufi Shrine</td>\n",
       "      <td>This mother had to go through a parent's worst...</td>\n",
       "      <td>1377</td>\n",
       "      <td>4005</td>\n",
       "      <td>4005</td>\n",
       "      <td>-1.00</td>\n",
       "    </tr>\n",
       "  </tbody>\n",
       "</table>\n",
       "</div>"
      ],
      "text/plain": [
       "                                  id                                name  \\\n",
       "10   407570359384477_848324461975729               Coral Reefs Are Dying   \n",
       "183  407570359384477_839115999563242             Make America Hate Again   \n",
       "242  407570359384477_837119286429580  ISIS Blast at Pakistan Sufi Shrine   \n",
       "\n",
       "                                               message likes_count  \\\n",
       "10   Bad news: This is the worst coral die-off ever...        1692   \n",
       "183  Has America learned to hate again? Hate crimes...        1465   \n",
       "242  This mother had to go through a parent's worst...        1377   \n",
       "\n",
       "    reactions_count total  polarity  \n",
       "10             4404  4404     -0.85  \n",
       "183            2542  2542     -0.80  \n",
       "242            4005  4005     -1.00  "
      ]
     },
     "execution_count": 43,
     "metadata": {},
     "output_type": "execute_result"
    }
   ],
   "source": [
    "# What are the most negative post messages?\n",
    "df[df['polarity'] < -0.8]"
   ]
  }
 ],
 "metadata": {
  "anaconda-cloud": {},
  "kernelspec": {
   "display_name": "Python [default]",
   "language": "python",
   "name": "python2"
  },
  "language_info": {
   "codemirror_mode": {
    "name": "ipython",
    "version": 2
   },
   "file_extension": ".py",
   "mimetype": "text/x-python",
   "name": "python",
   "nbconvert_exporter": "python",
   "pygments_lexer": "ipython2",
   "version": "2.7.12"
  }
 },
 "nbformat": 4,
 "nbformat_minor": 1
}
